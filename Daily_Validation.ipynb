{
 "cells": [
  {
   "cell_type": "markdown",
   "metadata": {
    "application/vnd.databricks.v1+cell": {
     "cellMetadata": {},
     "inputWidgets": {},
     "nuid": "6ddc32c2-2ebc-4202-baf8-7f0791e058dd",
     "showTitle": false,
     "title": ""
    }
   },
   "source": [
    "- **JIRA Ticket** : PLI-13998\n",
    "- **Version** : 0.1v\n",
    "- **Last_Modified_Date** : 03/28/2024 \n",
    "- **Author** : Fnu Pratik\n",
    "- **Remark** : Created Script to iterate through source files, identify specific node within each XML file, and verify \n",
    "               updates in corresponding Hive tables in raw and Datamart.\n"
   ]
  },
  {
   "cell_type": "code",
   "execution_count": 0,
   "metadata": {
    "application/vnd.databricks.v1+cell": {
     "cellMetadata": {
      "byteLimit": 2048000,
      "rowLimit": 10000
     },
     "inputWidgets": {},
     "nuid": "2ab52404-93eb-4c16-b031-9c6aa87c20c1",
     "showTitle": true,
     "title": "Create Date and BaseFolderPath Widget"
    }
   },
   "outputs": [],
   "source": [
    "# Define the widget parameters\n",
    "widget_params = {\n",
    "    \"Date\": {\n",
    "        \"type\": \"date\",\n",
    "        \"default\": \"2024-03-22\", \n",
    "    },\n",
    "    \"BaseFolderPath\": {\n",
    "        \"type\": \"text\",\n",
    "        \"default\": \"/mnt/raw/API_DATA/MAJESCO_PAS/POLICY/XML/\",  \n",
    "    },\n",
    "    \"Load_Folder\": {\n",
    "        \"type\": \"text\",\n",
    "        \"default\": \"No\",  \n",
    "    }\n",
    "}\n",
    "#  dbfs:/mnt/raw/API_DATA/MAJESCO_PAS/POLICY/XML/2024/03/22/2000001673-01_2024-03-19T11:47:53_convertQuote.xml\n",
    "\n",
    "# Register the widgets\n",
    "for widget_name, widget_config in widget_params.items():\n",
    "    dbutils.widgets.text(widget_name, widget_config.get(\"default\"), widget_config.get(\"label\"))\n",
    "\n",
    "# Create a multi-select widget to choose nodes\n",
    "dbutils.widgets.text(\"Nodes\", \"QuotePolicy\")\n",
    "\n",
    "# Get the selected nodes from the widget\n",
    "selected_nodes = dbutils.widgets.get(\"Nodes\").split(',')"
   ]
  },
  {
   "cell_type": "code",
   "execution_count": 0,
   "metadata": {
    "application/vnd.databricks.v1+cell": {
     "cellMetadata": {
      "byteLimit": 2048000,
      "rowLimit": 10000
     },
     "inputWidgets": {},
     "nuid": "f6ab12fa-18a3-4551-b44d-f342a257ef03",
     "showTitle": true,
     "title": "1.Read Processed file names"
    }
   },
   "outputs": [
    {
     "output_type": "stream",
     "name": "stdout",
     "output_type": "stream",
     "text": [
      "Selected Date: 2024/03/22\nProcessed files: ['2000001673-01_2024-03-19T11:47:53_convertQuote.xml', '2000001751-01_2024-03-22T10:07:26_endorsePolicy.xml', '2000001790-01_2024-03-22T10:17:25_quoteEndorseConvert.xml', '2000001790-01_2024-03-22T09:53:56_createPolicy.xml', '2000001786-01_2024-03-22T08:15:16_cancellation.xml', '2000001791-01_2024-03-22T10:33:46_convertQuote.xml']\n"
     ]
    }
   ],
   "source": [
    "import os\n",
    "from datetime import datetime\n",
    " \n",
    "# Retrieve the widget value\n",
    "selected_date_str = dbutils.widgets.get(\"Date\")\n",
    "selected_date = datetime.strptime(selected_date_str, \"%Y-%m-%d\")\n",
    "# Process the retrieved date to the required format\n",
    "selected_date_formatted = selected_date.strftime(\"%Y/%m/%d\")\n",
    "print(\"Selected Date:\", selected_date_formatted)\n",
    "\n",
    "# Read processed file names - This is to exclude these files in the current run as they are successfully \n",
    "# processed in the last run \n",
    " \n",
    "file_path = f\"/tmp/data_validation_test/API_DATA/MAJESCO_PAS/POLICY/XML/{selected_date_formatted}/processed_file.txt\"\n",
    " \n",
    "try:\n",
    "  # Read processed-file.txt from DBFS\n",
    "  head_lines = dbutils.fs.head(file_path)\n",
    "    \n",
    "  # Split the content by commas and store in a list\n",
    "  processed_files_list = [file.strip() for file in head_lines.split(',')]\n",
    "  print(\"Processed files:\", processed_files_list)\n",
    "except Exception as e:\n",
    "  # Create an empty file if it doesn't exist\n",
    "  dbutils.fs.put(file_path, \"\", overwrite=True)\n",
    "  processed_files_list = []\n",
    "  print(\"Processed files: (processed_file.txt not found, created new file)\")"
   ]
  },
  {
   "cell_type": "code",
   "execution_count": 0,
   "metadata": {
    "application/vnd.databricks.v1+cell": {
     "cellMetadata": {
      "byteLimit": 2048000,
      "rowLimit": 10000
     },
     "inputWidgets": {},
     "nuid": "1cde7938-9aed-4a88-bcb6-845eb040ce00",
     "showTitle": true,
     "title": "2.Iterate through the raw majesco xml folder and find new files"
    }
   },
   "outputs": [
    {
     "output_type": "stream",
     "name": "stdout",
     "output_type": "stream",
     "text": [
      "An error occurred while listing files: name 'selected_date_formatted' is not defined\n"
     ]
    }
   ],
   "source": [
    "new_files = []\n",
    "\n",
    "try:\n",
    "    # Get the folder path\n",
    "    base_folder_path = dbutils.widgets.get(\"BaseFolderPath\")\n",
    "    folder_path = f\"{base_folder_path}{selected_date_formatted}\"\n",
    "    print(\"Folder path:\", folder_path)\n",
    "    \n",
    "    # List files in the folder\n",
    "    files = dbutils.fs.ls(folder_path)\n",
    "    \n",
    "    # Check if Load_Folder is Yes\n",
    "    load_folder = dbutils.widgets.get(\"Load_Folder\")\n",
    "    if load_folder.lower() == \"yes\":\n",
    "        for file in files:\n",
    "            new_files.append(file.name)\n",
    "    else:\n",
    "        # Extract file names and filter out those not present in processed-file.txt\n",
    "        for file in files:\n",
    "            file_name = file.name\n",
    "            if file_name not in processed_files_list:\n",
    "                new_files.append(file_name)\n",
    "\n",
    "    print(\"New files:\", new_files)\n",
    " \n",
    "except FileNotFoundError:\n",
    "    print(\"Folder not found:\", folder_path)\n",
    " \n",
    "except Exception as e:\n",
    "    print(\"An error occurred while listing files:\", str(e))\n"
   ]
  },
  {
   "cell_type": "code",
   "execution_count": 0,
   "metadata": {
    "application/vnd.databricks.v1+cell": {
     "cellMetadata": {
      "byteLimit": 2048000,
      "rowLimit": 10000
     },
     "inputWidgets": {},
     "nuid": "fe6c9a02-a658-40a3-9062-d08c55f828b2",
     "showTitle": true,
     "title": "3.Copy new file to temp folder and update filename"
    }
   },
   "outputs": [
    {
     "output_type": "stream",
     "name": "stdout",
     "output_type": "stream",
     "text": [
      "File '2000001786-01_2024-03-22cancellation.xml' already exists in '/tmp/data_validation_test/API_DATA/MAJESCO_PAS/POLICY/XML/2024/03/22/new_files/'. Skipping copy.\nFile '2000001790-01_2024-03-22createPolicy.xml' already exists in '/tmp/data_validation_test/API_DATA/MAJESCO_PAS/POLICY/XML/2024/03/22/new_files/'. Skipping copy.\nFile '2000001790-01_2024-03-22quoteEndorseConvert.xml' already exists in '/tmp/data_validation_test/API_DATA/MAJESCO_PAS/POLICY/XML/2024/03/22/new_files/'. Skipping copy.\nFile '2000001791-01_2024-03-22convertQuote.xml' already exists in '/tmp/data_validation_test/API_DATA/MAJESCO_PAS/POLICY/XML/2024/03/22/new_files/'. Skipping copy.\nUpdated new files list:\n['2000001786-01_2024-03-22cancellation.xml', '2000001790-01_2024-03-22createPolicy.xml', '2000001790-01_2024-03-22quoteEndorseConvert.xml', '2000001791-01_2024-03-22convertQuote.xml']\nFile mapping dictionary:\n{'2000001786-01_2024-03-22T08:15:16_cancellation.xml': '2000001786-01_2024-03-22cancellation.xml', '2000001790-01_2024-03-22T09:53:56_createPolicy.xml': '2000001790-01_2024-03-22createPolicy.xml', '2000001790-01_2024-03-22T10:17:25_quoteEndorseConvert.xml': '2000001790-01_2024-03-22quoteEndorseConvert.xml', '2000001791-01_2024-03-22T10:33:46_convertQuote.xml': '2000001791-01_2024-03-22convertQuote.xml'}\n"
     ]
    }
   ],
   "source": [
    "import re\n",
    "\n",
    "# Define the destination folder path where you want to copy the files\n",
    "destination_folder_path = f\"/tmp/data_validation_test/API_DATA/MAJESCO_PAS/POLICY/XML/{selected_date_formatted}/new_files/\"\n",
    "\n",
    "# Create a new list to store the updated destination file names\n",
    "updated_new_files = []\n",
    "\n",
    "# Create an empty dictionary to store the mapping of original filenames to destination filenames\n",
    "file_mapping = {}\n",
    "\n",
    "# List files in the destination folder\n",
    "existing_files = [file.name for file in dbutils.fs.ls(destination_folder_path)]\n",
    "\n",
    "for file_name in new_files:\n",
    "    try:\n",
    "        # Extract the prefix of the filename up to the first occurrence of \"T\"\n",
    "        prefix, _, suffix = file_name.partition(\"T\")\n",
    "        \n",
    "        # Extract the suffix of the filename after the last occurrence of \"_\"\n",
    "        suffix = suffix.rsplit(\"_\", 1)[-1]\n",
    "        \n",
    "        destination_file_name = f\"{prefix}{suffix}\"\n",
    "        \n",
    "        # Check if the destination file already exists\n",
    "        if destination_file_name in existing_files:\n",
    "            print(f\"File '{destination_file_name}' already exists in '{destination_folder_path}'. Skipping copy.\")\n",
    "        else:\n",
    "            source_file_path = f\"{folder_path}/{file_name}\"\n",
    "            destination_file_path = f\"{destination_folder_path}/{destination_file_name}\"\n",
    "\n",
    "            # Copy the file with updated name to the destination folder\n",
    "            dbutils.fs.cp(source_file_path, destination_file_path)\n",
    "\n",
    "            print(f\"File '{file_name}' copied to '{destination_folder_path}' with updated name '{destination_file_name}'.\")\n",
    "\n",
    "        # Append the destination file name to the updated new files list\n",
    "        updated_new_files.append(destination_file_name)\n",
    "        \n",
    "        # Add mapping of original filename to the new destination filename in the dictionary\n",
    "        file_mapping[file_name] = destination_file_name\n",
    "    except Exception as e:\n",
    "        print(f\"An error occurred while processing '{file_name}': {str(e)}\")\n",
    "\n",
    "# Update the new_files list with the updated destination file names\n",
    "new_files = updated_new_files\n",
    "\n",
    "# Print the updated new_files list\n",
    "print(\"Updated new files list:\")\n",
    "print(new_files)\n",
    "\n",
    "# Print the file mapping dictionary\n",
    "print(\"File mapping dictionary:\")\n",
    "print(file_mapping)\n"
   ]
  },
  {
   "cell_type": "markdown",
   "metadata": {
    "application/vnd.databricks.v1+cell": {
     "cellMetadata": {},
     "inputWidgets": {},
     "nuid": "99f8e1da-9f9d-4439-9c23-a9dd43483c29",
     "showTitle": false,
     "title": ""
    }
   },
   "source": [
    "##### Step - 4 - Iterate through new XML files and extract node information"
   ]
  },
  {
   "cell_type": "code",
   "execution_count": 0,
   "metadata": {
    "application/vnd.databricks.v1+cell": {
     "cellMetadata": {
      "byteLimit": 2048000,
      "rowLimit": 10000
     },
     "inputWidgets": {},
     "nuid": "f8b90d0f-3b1b-4900-a24e-c09beeee304d",
     "showTitle": true,
     "title": "4.1 - Source to Raw table Mapping"
    }
   },
   "outputs": [],
   "source": [
    "# Mapping of nodes to raw tables\n",
    "node_table_mapping = {\n",
    "    \"QuotePolicy\": \"raw.maj_policy_Wc_QuotePolicy\",\n",
    "    \"InsuredList\": \"raw.maj_policy_wc_insuredlist_insured\",\n",
    "    \"ProducerList\": \"raw.maj_policy_wc_producerlist_producer\",\n",
    "    \"Product\": \"raw.maj_policy_wc_product_form\",\n",
    "    \"CommissionList\": \"raw.maj_policy_wc_commissionlist_commission\",\n",
    "    \"SurchargesList\": \"raw.maj_policy_wc_product_surcharges\"\n",
    "}\n",
    "\n",
    "# Mapping of tables to entity reference columns\n",
    "entity_reference_col_mapping = {\n",
    "    \"raw.maj_policy_Wc_QuotePolicy\": \"QPList_QP_EntityReference\",\n",
    "    \"raw.maj_policy_wc_insuredlist_insured\": \"InsuredList_IL_EntityReference\",\n",
    "    \"raw.maj_policy_wc_producerlist_producer\": \"ProducerList_PR_EntityReference\",\n",
    "    \"raw.maj_policy_wc_product_form\": \"Product_PR_EntityReference\",\n",
    "    \"raw.maj_policy_wc_commissionlist_commission\": \"CList_Comm_PolicyReference_newValue\",\n",
    "    \"raw.maj_policy_wc_product_surcharges\": \"SurchargesList_SL_EntityReference\"\n",
    "}\n"
   ]
  },
  {
   "cell_type": "code",
   "execution_count": 0,
   "metadata": {
    "application/vnd.databricks.v1+cell": {
     "cellMetadata": {
      "byteLimit": 2048000,
      "rowLimit": 10000
     },
     "inputWidgets": {},
     "nuid": "7de5164a-4bca-4e70-a01f-15a796bd345a",
     "showTitle": true,
     "title": "4.2 - Count records in Hive table"
    }
   },
   "outputs": [],
   "source": [
    "# Define function to run SQL count queries\n",
    "def run_count_query(table_name, entity_reference_value):\n",
    "    # Get the corresponding entity reference column name\n",
    "    entity_reference_col = entity_reference_col_mapping.get(table_name)\n",
    "    if not entity_reference_col:\n",
    "        print(f\"No entity reference column found for table: {table_name}\")\n",
    "        return None\n",
    "    # Generate SQL query with the appropriate column name\n",
    "    sql_query = f\"SELECT count(*) as count FROM {table_name} WHERE {entity_reference_col} = '{entity_reference_value}'\"\n",
    "    # Run the count SQL query using Spark SQL\n",
    "    count_df = spark.sql(sql_query)\n",
    "    count_value = count_df.collect()[0][\"count\"]\n",
    "    return count_value"
   ]
  },
  {
   "cell_type": "code",
   "execution_count": 0,
   "metadata": {
    "application/vnd.databricks.v1+cell": {
     "cellMetadata": {
      "byteLimit": 2048000,
      "rowLimit": 10000
     },
     "inputWidgets": {},
     "nuid": "bac94ac3-19d6-4871-a1ad-25ed502e658e",
     "showTitle": true,
     "title": "4.3 - Insert records in Hive table"
    }
   },
   "outputs": [],
   "source": [
    "# Function to insert values into Hive table\n",
    "def insert_into_hive_table(load_id, created_datetime, updated_datetime, xml_filename, listed_nodes, updated_table_name, status, remark, file_received_date):\n",
    "    try:\n",
    "        spark.sql(f\"\"\"\n",
    "            INSERT INTO TABLE test.data_load_monitoring_v1\n",
    "            VALUES (\n",
    "                '{load_id}',\n",
    "                '{created_datetime}',\n",
    "                '{updated_datetime}',\n",
    "                '{xml_filename}',\n",
    "                '{listed_nodes}',\n",
    "                '{updated_table_name}',\n",
    "                '{status}',\n",
    "                '{remark}',\n",
    "                '{file_received_date}'\n",
    "            )\n",
    "        \"\"\")\n",
    "        print(\"Row inserted into test.data_load_monitoring_v1 successfully.\")\n",
    "    except Exception as e:\n",
    "        print(f\"Error inserting row into test.data_load_monitoring_v1: {str(e)}\")\n"
   ]
  },
  {
   "cell_type": "code",
   "execution_count": 0,
   "metadata": {
    "application/vnd.databricks.v1+cell": {
     "cellMetadata": {
      "byteLimit": 2048000,
      "rowLimit": 10000
     },
     "inputWidgets": {},
     "nuid": "84a30542-a651-4667-88e1-6b4edfe38f0e",
     "showTitle": true,
     "title": "4.4 - Extract Node Info from XML and check raw and mart table ."
    }
   },
   "outputs": [
    {
     "output_type": "stream",
     "name": "stdout",
     "output_type": "stream",
     "text": [
      "File: 2000001786-01_2024-03-22cancellation.xml\nEntityReference Value: P01WK0000017860001\nQuotePolicy node is updated in raw.maj_policy_Wc_QuotePolicy\nQuotePolicy node is updated in mart.policydimension and mart.policytransactiondetail table\nCommissionList node is not updated in raw.maj_policy_wc_commissionlist_commission\nRow inserted into test.data_load_monitoring_v1 successfully.\n-----------------------------------------------------------\nFile: 2000001790-01_2024-03-22createPolicy.xml\nEntityReference Value: P01WK0000017900000\nQuotePolicy node is updated in raw.maj_policy_Wc_QuotePolicy\nQuotePolicy node is updated in mart.policydimension and mart.policytransactiondetail table\nCommissionList node is updated in raw.maj_policy_wc_commissionlist_commission\nCommissionList node is updated in mart.policydimension and mart.policytransactiondetail table\nRow inserted into test.data_load_monitoring_v1 successfully.\n-----------------------------------------------------------\nFile: 2000001790-01_2024-03-22quoteEndorseConvert.xml\nEntityReference Value: P01WK0000017900001\nQuotePolicy node is updated in raw.maj_policy_Wc_QuotePolicy\nQuotePolicy node is updated in mart.policydimension and mart.policytransactiondetail table\nCommissionList node is updated in raw.maj_policy_wc_commissionlist_commission\nCommissionList node is updated in mart.policydimension and mart.policytransactiondetail table\nRow inserted into test.data_load_monitoring_v1 successfully.\n-----------------------------------------------------------\nFile: 2000001791-01_2024-03-22convertQuote.xml\nEntityReference Value: P01WK0000017910000\nQuotePolicy node is updated in raw.maj_policy_Wc_QuotePolicy\nQuotePolicy node is updated in mart.policydimension and mart.policytransactiondetail table\nRow inserted into test.data_load_monitoring_v1 successfully.\n-----------------------------------------------------------\n"
     ]
    }
   ],
   "source": [
    "from pyspark.sql import SparkSession\n",
    "from datetime import datetime, date\n",
    "import uuid\n",
    "\n",
    "# Initialize SparkSession\n",
    "spark = SparkSession.builder \\\n",
    "    .appName(\"XML Processing\") \\\n",
    "    .config(\"spark.sql.caseSensitive\", \"true\") \\\n",
    "    .getOrCreate()\n",
    "\n",
    "# Loop over new_files\n",
    "for file_name in new_files:\n",
    "    file_path = f\"{destination_folder_path}{file_name}\"\n",
    "    \n",
    "    try:\n",
    "        # Read the XML file into a Spark DataFrame\n",
    "        spark_df = spark.read \\\n",
    "                        .format(\"xml\") \\\n",
    "                        .option('rowTag', 'QuotePolicy') \\\n",
    "                        .load(f\"dbfs:{file_path}\")\n",
    "        \n",
    "        # Check if the Spark DataFrame is not null (i.e., not empty)\n",
    "        if spark_df:\n",
    "            # Check if the specified columns are present\n",
    "            column_existence = {col_name: col_name in spark_df.columns for col_name in selected_nodes}\n",
    "            column_existence[\"QuotePolicy\"] = True\n",
    "            entity_reference_value = spark_df.select(\"_EntityReference\").first()[0]\n",
    "            print(f\"File: {file_name}\")\n",
    "            print(\"EntityReference Value:\", entity_reference_value)\n",
    "            updated_table_list =[]\n",
    "            fail_update_table_list= []\n",
    "\n",
    "            for col_name, exists in column_existence.items():\n",
    "                if exists:\n",
    "                    table_name = node_table_mapping.get(col_name)\n",
    "                    if table_name:\n",
    "                        count_value = run_count_query(table_name, entity_reference_value)\n",
    "                        if count_value is not None:\n",
    "                            if count_value == 1:\n",
    "                                print(f\"{col_name} node is updated in {table_name}\")\n",
    "                                updated_table_list.append(table_name)\n",
    "                                policy_master_id_df = spark.sql(\"\"\"\n",
    "                                    SELECT DISTINCT PolicyMasterID \n",
    "                                    FROM mart.policydimension \n",
    "                                    WHERE SystemID = 70 AND SourcePolicyGUID = '{0}'\n",
    "                                \"\"\".format(entity_reference_value))\n",
    "\n",
    "                                policy_master_id_row = policy_master_id_df.first()\n",
    "\n",
    "                                if policy_master_id_row:\n",
    "                                    updated_table_list.append('mart.policydimension')\n",
    "                                    policy_master_id = policy_master_id_row[\"PolicyMasterID\"]\n",
    "                                    policy_transaction_detail_df = spark.sql(\"\"\"\n",
    "                                        SELECT *\n",
    "                                        FROM mart.policytransactiondetail\n",
    "                                        WHERE Policymasterid = '{0}'\n",
    "                                    \"\"\".format(policy_master_id))\n",
    "                                    total_count = policy_transaction_detail_df.count()\n",
    "\n",
    "                                    if total_count > 0:\n",
    "                                        updated_table_list.append('mart.policytransactiondetail')\n",
    "                                        print(f\"{col_name} node is updated in mart.policydimension and mart.policytransactiondetail table\")\n",
    "                                    else:\n",
    "                                        print(f\"{entity_reference_value} is not updated in mart.policytransactiondetail \")\n",
    "                                        fail_update_table_list.append('mart.policytransactiondetail')\n",
    "                                else:\n",
    "                                    print(f\"{entity_reference_value} is not updated in mart.policydimension \")\n",
    "                                    fail_update_table_list.append('mart.policydimension')\n",
    "\n",
    "                            else:\n",
    "                                print(f\"{col_name} node is not updated in {table_name}\")\n",
    "                                fail_update_table_list.append(table_name)\n",
    "                    else:\n",
    "                        print(f\"No mapping found for {col_name}\")\n",
    "\n",
    "            # Generate UUID for load_id\n",
    "            load_id = str(uuid.uuid4())\n",
    "\n",
    "            # Generate FileReceivedDate\n",
    "            file_received_date = selected_date\n",
    "            updated_table_list = list(set(updated_table_list))\n",
    "            fail_update_table_list = list(set(fail_update_table_list))\n",
    "\n",
    "            # Get original file name from file_mapping dictionary\n",
    "            original_filename = next((key for key, val in file_mapping.items() if val == file_name), None)\n",
    "            \n",
    "\n",
    "            # Insert into Hive table test.data_load_monitoring_v1\n",
    "            status = \"Fail\" if fail_update_table_list else \"Success\"\n",
    "            remark = \"Update failed for tables: \" + \", \".join(fail_update_table_list) if fail_update_table_list else \"Update successful for all tables\"\n",
    "            insert_into_hive_table(\n",
    "                load_id=load_id, \n",
    "                created_datetime=datetime.now(), \n",
    "                updated_datetime=datetime.now(), \n",
    "                xml_filename=original_filename, \n",
    "                listed_nodes=\", \".join(selected_nodes), \n",
    "                updated_table_name=\", \".join(updated_table_list), \n",
    "                status=status, \n",
    "                remark=remark,\n",
    "                file_received_date=file_received_date\n",
    "            )\n",
    "\n",
    "            print(\"-----------------------------------------------------------\")\n",
    "        else:\n",
    "            print(f\"File: {file_name} - No data found in the XML file.\")\n",
    "\n",
    "    except Exception as e:\n",
    "        print(f\"An error occurred while processing {file_name}: {str(e)}\")\n",
    "\n",
    "\n",
    "\n"
   ]
  },
  {
   "cell_type": "markdown",
   "metadata": {
    "application/vnd.databricks.v1+cell": {
     "cellMetadata": {},
     "inputWidgets": {},
     "nuid": "6a632826-ff2a-478b-ac7c-1376cb712935",
     "showTitle": false,
     "title": ""
    }
   },
   "source": [
    "##### Step - 5 - Add the new file names to processed_file.txt and delete new files from the temp folder"
   ]
  },
  {
   "cell_type": "code",
   "execution_count": 0,
   "metadata": {
    "application/vnd.databricks.v1+cell": {
     "cellMetadata": {
      "byteLimit": 2048000,
      "implicitDf": true,
      "rowLimit": 10000
     },
     "inputWidgets": {},
     "nuid": "cdb38ff4-ce4a-446f-ac6a-bc4687217bc4",
     "showTitle": true,
     "title": "5.1 select all filenames that are processed in current run"
    }
   },
   "outputs": [
    {
     "output_type": "stream",
     "name": "stdout",
     "output_type": "stream",
     "text": [
      "['2000001790-01_2024-03-22T10:17:25_quoteEndorseConvert.xml', '2000001790-01_2024-03-22T09:53:56_createPolicy.xml', '2000001786-01_2024-03-22T08:15:16_cancellation.xml', '2000001791-01_2024-03-22T10:33:46_convertQuote.xml']\n"
     ]
    }
   ],
   "source": [
    "\n",
    "# Execute SQL query\n",
    "result_df = spark.sql(\"\"\"\n",
    "    SELECT DISTINCT XML_Filename \n",
    "    FROM test.data_load_monitoring_v1 \n",
    "    WHERE FileReceivedDate = '2024-03-22'\n",
    "\"\"\")\n",
    "\n",
    "# Collect distinct filenames into a Python list\n",
    "distinct_filenames = [row['XML_Filename'] for row in result_df.collect()]\n",
    "\n",
    "# Print or use the distinct filenames as needed\n",
    "print(distinct_filenames)"
   ]
  },
  {
   "cell_type": "code",
   "execution_count": 0,
   "metadata": {
    "application/vnd.databricks.v1+cell": {
     "cellMetadata": {
      "byteLimit": 2048000,
      "rowLimit": 10000
     },
     "inputWidgets": {},
     "nuid": "bb217768-1c49-43fc-87d2-02fee33c0b6d",
     "showTitle": true,
     "title": "5.1 Add all distinct processed filenames in txt file"
    }
   },
   "outputs": [
    {
     "output_type": "stream",
     "name": "stdout",
     "output_type": "stream",
     "text": [
      "Wrote 317 bytes.\nOut[20]: True"
     ]
    }
   ],
   "source": [
    "# Read the entire file\n",
    "head_lines = dbutils.fs.head(file_path)\n",
    "\n",
    "# Concatenate the existing content with the filenames obtained from SQL\n",
    "updated_content = head_lines.strip() + ', ' + ', '.join(distinct_filenames)\n",
    "\n",
    "# Write the updated content back to the file\n",
    "dbutils.fs.put(file_path, updated_content, overwrite=True)\n"
   ]
  },
  {
   "cell_type": "markdown",
   "metadata": {
    "application/vnd.databricks.v1+cell": {
     "cellMetadata": {},
     "inputWidgets": {},
     "nuid": "38892362-8594-42b0-bfcb-b7f79df3d299",
     "showTitle": false,
     "title": ""
    }
   },
   "source": [
    "### -------------------------------------------------------------------------------"
   ]
  },
  {
   "cell_type": "markdown",
   "metadata": {
    "application/vnd.databricks.v1+cell": {
     "cellMetadata": {},
     "inputWidgets": {},
     "nuid": "22039e23-c660-42d3-ad7b-e173c1603d3e",
     "showTitle": false,
     "title": ""
    }
   },
   "source": [
    "##### miscellaneous"
   ]
  },
  {
   "cell_type": "code",
   "execution_count": 0,
   "metadata": {
    "application/vnd.databricks.v1+cell": {
     "cellMetadata": {
      "byteLimit": 2048000,
      "implicitDf": true,
      "rowLimit": 10000
     },
     "inputWidgets": {},
     "nuid": "b8d0f155-0ef5-43b2-b9f7-d5d9bd0a8037",
     "showTitle": false,
     "title": ""
    }
   },
   "outputs": [
    {
     "output_type": "display_data",
     "data": {
      "text/html": [
       "<style scoped>\n",
       "  .table-result-container {\n",
       "    max-height: 300px;\n",
       "    overflow: auto;\n",
       "  }\n",
       "  table, th, td {\n",
       "    border: 1px solid black;\n",
       "    border-collapse: collapse;\n",
       "  }\n",
       "  th, td {\n",
       "    padding: 5px;\n",
       "  }\n",
       "  th {\n",
       "    text-align: left;\n",
       "  }\n",
       "</style><div class='table-result-container'><table class='table-result'><thead style='background-color: white'><tr></tr></thead><tbody></tbody></table></div>"
      ]
     },
     "metadata": {
      "application/vnd.databricks.v1+output": {
       "addedWidgets": {},
       "aggData": [],
       "aggError": "",
       "aggOverflow": false,
       "aggSchema": [],
       "aggSeriesLimitReached": false,
       "aggType": "",
       "arguments": {},
       "columnCustomDisplayInfos": {},
       "data": [],
       "datasetInfos": [],
       "dbfsResultPath": null,
       "isJsonSchema": true,
       "metadata": {},
       "overflow": false,
       "plotOptions": {
        "customPlotOptions": {},
        "displayType": "table",
        "pivotAggregation": null,
        "pivotColumns": null,
        "xColumns": null,
        "yColumns": null
       },
       "removedWidgets": [],
       "schema": [],
       "type": "table"
      }
     },
     "output_type": "display_data"
    }
   ],
   "source": [
    "%sql\n",
    "\n",
    "-- Create a new table with the required schema and partition by FileReceivedDate\n",
    "CREATE TABLE IF NOT EXISTS test.data_load_monitoring_v1\n",
    "(\n",
    "    Load_ID STRING,\n",
    "    CreatedDateTime TIMESTAMP,\n",
    "    UpdatedDateTime TIMESTAMP,\n",
    "    XML_Filename STRING,\n",
    "    ListedNodes STRING,\n",
    "    UpdatedTableName STRING,\n",
    "    Status STRING,\n",
    "    Remark STRING\n",
    ")\n",
    "USING DELTA\n",
    "PARTITIONED BY (FileReceivedDate DATE);\n",
    "\n"
   ]
  },
  {
   "cell_type": "code",
   "execution_count": 0,
   "metadata": {
    "application/vnd.databricks.v1+cell": {
     "cellMetadata": {
      "byteLimit": 2048000,
      "implicitDf": true,
      "rowLimit": 10000
     },
     "inputWidgets": {},
     "nuid": "798e7cf9-bfa0-4550-8cae-5b06fa95c1d7",
     "showTitle": false,
     "title": ""
    }
   },
   "outputs": [
    {
     "output_type": "display_data",
     "data": {
      "text/html": [
       "<style scoped>\n",
       "  .table-result-container {\n",
       "    max-height: 300px;\n",
       "    overflow: auto;\n",
       "  }\n",
       "  table, th, td {\n",
       "    border: 1px solid black;\n",
       "    border-collapse: collapse;\n",
       "  }\n",
       "  th, td {\n",
       "    padding: 5px;\n",
       "  }\n",
       "  th {\n",
       "    text-align: left;\n",
       "  }\n",
       "</style><div class='table-result-container'><table class='table-result'><thead style='background-color: white'><tr><th>PolicyMasterID</th></tr></thead><tbody><tr><td>90020650</td></tr></tbody></table></div>"
      ]
     },
     "metadata": {
      "application/vnd.databricks.v1+output": {
       "addedWidgets": {},
       "aggData": [],
       "aggError": "",
       "aggOverflow": false,
       "aggSchema": [],
       "aggSeriesLimitReached": false,
       "aggType": "",
       "arguments": {},
       "columnCustomDisplayInfos": {},
       "data": [
        [
         90020650
        ]
       ],
       "datasetInfos": [],
       "dbfsResultPath": null,
       "isJsonSchema": true,
       "metadata": {},
       "overflow": false,
       "plotOptions": {
        "customPlotOptions": {},
        "displayType": "table",
        "pivotAggregation": null,
        "pivotColumns": null,
        "xColumns": null,
        "yColumns": null
       },
       "removedWidgets": [],
       "schema": [
        {
         "metadata": "{}",
         "name": "PolicyMasterID",
         "type": "\"integer\""
        }
       ],
       "type": "table"
      }
     },
     "output_type": "display_data"
    }
   ],
   "source": [
    "%sql\n",
    "select PolicyMasterID from mart.policydimension where SystemID = 70 and SourcePolicyGUID = \"P01WK0000017900001\""
   ]
  },
  {
   "cell_type": "code",
   "execution_count": 0,
   "metadata": {
    "application/vnd.databricks.v1+cell": {
     "cellMetadata": {
      "byteLimit": 2048000,
      "implicitDf": true,
      "rowLimit": 10000
     },
     "inputWidgets": {},
     "nuid": "0d4f9d9f-2540-4f04-ab34-9d494052f1d3",
     "showTitle": false,
     "title": ""
    }
   },
   "outputs": [
    {
     "output_type": "display_data",
     "data": {
      "text/html": [
       "<style scoped>\n",
       "  .table-result-container {\n",
       "    max-height: 300px;\n",
       "    overflow: auto;\n",
       "  }\n",
       "  table, th, td {\n",
       "    border: 1px solid black;\n",
       "    border-collapse: collapse;\n",
       "  }\n",
       "  th, td {\n",
       "    padding: 5px;\n",
       "  }\n",
       "  th {\n",
       "    text-align: left;\n",
       "  }\n",
       "</style><div class='table-result-container'><table class='table-result'><thead style='background-color: white'><tr><th>PolicyTransactionDetailID</th><th>PolicyPrefix</th><th>CoverageID</th><th>TransactionEffectiveDate</th><th>PremiumType</th><th>CompanyCode</th><th>LineOfBusinessCode</th><th>RatingType</th><th>ClassCode</th><th>RiskNumber</th><th>UserCode</th><th>LimitDeductibleID</th><th>PolicyVehicleID</th><th>SystemID</th><th>ExposureState</th><th>PolicyEffectiveDate</th><th>PolicyNumber</th><th>EntryDate</th><th>EntryTime</th><th>RSN</th><th>RiskID</th><th>TransactionType</th><th>WorkCompClassID</th><th>RevenueTypeDescription</th><th>RevenueType</th><th>AccountID</th><th>Policymasterid</th><th>PolicyDecNumber</th><th>UnitNumber</th><th>CoverageCode</th><th>SIRAmount</th><th>RevenueAmount</th><th>PolicyCoverageMasterID</th><th>AddDate</th><th>AgentID</th><th>BranchNumber</th><th>DeleteDate</th><th>DriverIndexNumber</th><th>EarnedInFullIndicator</th><th>EarnedPremium</th><th>ExcludeFromCommission</th><th>InforceChange</th><th>InforceChangeCalculated</th><th>InforceNew</th><th>InforceOld</th><th>InsuredID</th><th>LimitCode</th><th>ManualCorrectionFlag</th><th>Master1099ID</th><th>PolicyDriverID</th><th>PolicyPrefixID</th><th>ProtectiveShareAmount</th><th>RatingPeriodID</th><th>RedBrickRecordKey</th><th>ScorecardPointsID</th><th>SliceNumber</th><th>SplitNumber</th><th>StopDate</th><th>TruckingBureauCoveragesID</th><th>TruckingCoverageID</th><th>VehicleUnitType</th><th>WrittenChangeCalculated</th><th>WrittenNew</th><th>WrittenOld</th><th>WrittenChange</th><th>Rate</th><th>DWHCreatedBy</th><th>DWHCreatedDateTime</th><th>DWHUpdatedBy</th><th>DWHUpdatedDateTime</th><th>CompanyID</th><th>LineOfBusinessID</th><th>AnnualPremium</th><th>EvaluatedPremium</th><th>PolicyTermPremium</th><th>PriorPremium</th><th>TotalProRatedChangePremium</th><th>Premium</th><th>ChangePremium</th><th>Commission</th><th>CoverageTypeCode</th></tr></thead><tbody><tr><td>90026114</td><td>AW</td><td>7394</td><td>2024-03-22T00:00:00.000+0000</td><td>P</td><td>PIC</td><td>SBWC</td><td>null</td><td>0016</td><td>10</td><td>kayec@protective.com</td><td>0</td><td>null</td><td>70</td><td>null</td><td>2024-03-22T00:00:00.000+0000</td><td>2000001790</td><td>2024-03-22</td><td>101725</td><td>null</td><td>2190757</td><td>null</td><td>14865939</td><td>null</td><td>null</td><td>20952</td><td>90020650</td><td>1</td><td>0</td><td>WR</td><td>null</td><td>null</td><td>null</td><td>2024-03-22T10:17:25.000+0000</td><td>30318</td><td>null</td><td>null</td><td>null</td><td>null</td><td>null</td><td>N</td><td>3035.0000</td><td>3035.0000</td><td>3035.0000</td><td>0.0000</td><td>5084412</td><td>null</td><td>null</td><td>null</td><td>null</td><td>139</td><td>null</td><td>null</td><td>null</td><td>null</td><td>null</td><td>null</td><td>null</td><td>null</td><td>null</td><td>null</td><td>3035.0000</td><td>3035.0000</td><td>0.0000</td><td>3035.0000</td><td>null</td><td>5649e4c2-3d5f-4377-be81-3c1e7949d907</td><td>2024-03-22T15:25:52.123+0000</td><td>5649e4c2-3d5f-4377-be81-3c1e7949d907</td><td>2024-03-22T15:25:52.123+0000</td><td>11</td><td>10</td><td>3035.0000</td><td>null</td><td>3035.0000</td><td>0.0000</td><td>3035.0000</td><td>3035.0000</td><td>3035.0000</td><td>242.8000</td><td>null</td></tr><tr><td>90026115</td><td>AW</td><td>7394</td><td>2024-03-22T00:00:00.000+0000</td><td>P</td><td>PIC</td><td>SBWC</td><td>null</td><td>0035</td><td>10</td><td>kayec@protective.com</td><td>0</td><td>null</td><td>70</td><td>null</td><td>2024-03-22T00:00:00.000+0000</td><td>2000001790</td><td>2024-03-22</td><td>101725</td><td>null</td><td>2190757</td><td>null</td><td>14865941</td><td>null</td><td>null</td><td>20952</td><td>90020650</td><td>1</td><td>0</td><td>WR</td><td>null</td><td>null</td><td>null</td><td>2024-03-22T10:17:25.000+0000</td><td>30318</td><td>null</td><td>null</td><td>null</td><td>null</td><td>null</td><td>N</td><td>0.0000</td><td>0.0000</td><td>3250.0000</td><td>3250.0000</td><td>5084412</td><td>null</td><td>null</td><td>null</td><td>null</td><td>139</td><td>null</td><td>null</td><td>null</td><td>null</td><td>null</td><td>null</td><td>null</td><td>null</td><td>null</td><td>null</td><td>0.0000</td><td>3250.0000</td><td>3250.0000</td><td>0.0000</td><td>null</td><td>5649e4c2-3d5f-4377-be81-3c1e7949d907</td><td>2024-03-22T15:25:52.123+0000</td><td>5649e4c2-3d5f-4377-be81-3c1e7949d907</td><td>2024-03-22T15:25:52.123+0000</td><td>11</td><td>10</td><td>3250.0000</td><td>null</td><td>3250.0000</td><td>3250.0000</td><td>0.0000</td><td>3250.0000</td><td>3250.0000</td><td>260.0000</td><td>null</td></tr></tbody></table></div>"
      ]
     },
     "metadata": {
      "application/vnd.databricks.v1+output": {
       "addedWidgets": {},
       "aggData": [],
       "aggError": "",
       "aggOverflow": false,
       "aggSchema": [],
       "aggSeriesLimitReached": false,
       "aggType": "",
       "arguments": {},
       "columnCustomDisplayInfos": {},
       "data": [
        [
         90026114,
         "AW",
         7394,
         "2024-03-22T00:00:00.000+0000",
         "P",
         "PIC",
         "SBWC",
         null,
         "0016",
         "10",
         "kayec@protective.com",
         0,
         null,
         70,
         null,
         "2024-03-22T00:00:00.000+0000",
         "2000001790",
         "2024-03-22",
         101725,
         null,
         2190757,
         null,
         14865939,
         null,
         null,
         20952,
         90020650,
         1,
         0,
         "WR",
         null,
         null,
         null,
         "2024-03-22T10:17:25.000+0000",
         30318,
         null,
         null,
         null,
         null,
         null,
         "N",
         "3035.0000",
         "3035.0000",
         "3035.0000",
         "0.0000",
         5084412,
         null,
         null,
         null,
         null,
         139,
         null,
         null,
         null,
         null,
         null,
         null,
         null,
         null,
         null,
         null,
         "3035.0000",
         "3035.0000",
         "0.0000",
         "3035.0000",
         null,
         "5649e4c2-3d5f-4377-be81-3c1e7949d907",
         "2024-03-22T15:25:52.123+0000",
         "5649e4c2-3d5f-4377-be81-3c1e7949d907",
         "2024-03-22T15:25:52.123+0000",
         11,
         10,
         "3035.0000",
         null,
         "3035.0000",
         "0.0000",
         "3035.0000",
         "3035.0000",
         "3035.0000",
         "242.8000",
         null
        ],
        [
         90026115,
         "AW",
         7394,
         "2024-03-22T00:00:00.000+0000",
         "P",
         "PIC",
         "SBWC",
         null,
         "0035",
         "10",
         "kayec@protective.com",
         0,
         null,
         70,
         null,
         "2024-03-22T00:00:00.000+0000",
         "2000001790",
         "2024-03-22",
         101725,
         null,
         2190757,
         null,
         14865941,
         null,
         null,
         20952,
         90020650,
         1,
         0,
         "WR",
         null,
         null,
         null,
         "2024-03-22T10:17:25.000+0000",
         30318,
         null,
         null,
         null,
         null,
         null,
         "N",
         "0.0000",
         "0.0000",
         "3250.0000",
         "3250.0000",
         5084412,
         null,
         null,
         null,
         null,
         139,
         null,
         null,
         null,
         null,
         null,
         null,
         null,
         null,
         null,
         null,
         "0.0000",
         "3250.0000",
         "3250.0000",
         "0.0000",
         null,
         "5649e4c2-3d5f-4377-be81-3c1e7949d907",
         "2024-03-22T15:25:52.123+0000",
         "5649e4c2-3d5f-4377-be81-3c1e7949d907",
         "2024-03-22T15:25:52.123+0000",
         11,
         10,
         "3250.0000",
         null,
         "3250.0000",
         "3250.0000",
         "0.0000",
         "3250.0000",
         "3250.0000",
         "260.0000",
         null
        ]
       ],
       "datasetInfos": [],
       "dbfsResultPath": null,
       "isJsonSchema": true,
       "metadata": {},
       "overflow": false,
       "plotOptions": {
        "customPlotOptions": {},
        "displayType": "table",
        "pivotAggregation": null,
        "pivotColumns": null,
        "xColumns": null,
        "yColumns": null
       },
       "removedWidgets": [],
       "schema": [
        {
         "metadata": "{}",
         "name": "PolicyTransactionDetailID",
         "type": "\"integer\""
        },
        {
         "metadata": "{}",
         "name": "PolicyPrefix",
         "type": "\"string\""
        },
        {
         "metadata": "{}",
         "name": "CoverageID",
         "type": "\"integer\""
        },
        {
         "metadata": "{}",
         "name": "TransactionEffectiveDate",
         "type": "\"timestamp\""
        },
        {
         "metadata": "{}",
         "name": "PremiumType",
         "type": "\"string\""
        },
        {
         "metadata": "{}",
         "name": "CompanyCode",
         "type": "\"string\""
        },
        {
         "metadata": "{}",
         "name": "LineOfBusinessCode",
         "type": "\"string\""
        },
        {
         "metadata": "{}",
         "name": "RatingType",
         "type": "\"string\""
        },
        {
         "metadata": "{}",
         "name": "ClassCode",
         "type": "\"string\""
        },
        {
         "metadata": "{}",
         "name": "RiskNumber",
         "type": "\"string\""
        },
        {
         "metadata": "{}",
         "name": "UserCode",
         "type": "\"string\""
        },
        {
         "metadata": "{}",
         "name": "LimitDeductibleID",
         "type": "\"integer\""
        },
        {
         "metadata": "{}",
         "name": "PolicyVehicleID",
         "type": "\"integer\""
        },
        {
         "metadata": "{}",
         "name": "SystemID",
         "type": "\"integer\""
        },
        {
         "metadata": "{}",
         "name": "ExposureState",
         "type": "\"string\""
        },
        {
         "metadata": "{}",
         "name": "PolicyEffectiveDate",
         "type": "\"timestamp\""
        },
        {
         "metadata": "{}",
         "name": "PolicyNumber",
         "type": "\"string\""
        },
        {
         "metadata": "{}",
         "name": "EntryDate",
         "type": "\"date\""
        },
        {
         "metadata": "{}",
         "name": "EntryTime",
         "type": "\"integer\""
        },
        {
         "metadata": "{}",
         "name": "RSN",
         "type": "\"integer\""
        },
        {
         "metadata": "{}",
         "name": "RiskID",
         "type": "\"integer\""
        },
        {
         "metadata": "{}",
         "name": "TransactionType",
         "type": "\"string\""
        },
        {
         "metadata": "{}",
         "name": "WorkCompClassID",
         "type": "\"integer\""
        },
        {
         "metadata": "{}",
         "name": "RevenueTypeDescription",
         "type": "\"string\""
        },
        {
         "metadata": "{}",
         "name": "RevenueType",
         "type": "\"string\""
        },
        {
         "metadata": "{}",
         "name": "AccountID",
         "type": "\"integer\""
        },
        {
         "metadata": "{}",
         "name": "Policymasterid",
         "type": "\"integer\""
        },
        {
         "metadata": "{}",
         "name": "PolicyDecNumber",
         "type": "\"integer\""
        },
        {
         "metadata": "{}",
         "name": "UnitNumber",
         "type": "\"integer\""
        },
        {
         "metadata": "{}",
         "name": "CoverageCode",
         "type": "\"string\""
        },
        {
         "metadata": "{}",
         "name": "SIRAmount",
         "type": "\"decimal(18,4)\""
        },
        {
         "metadata": "{}",
         "name": "RevenueAmount",
         "type": "\"decimal(18,4)\""
        },
        {
         "metadata": "{}",
         "name": "PolicyCoverageMasterID",
         "type": "\"integer\""
        },
        {
         "metadata": "{}",
         "name": "AddDate",
         "type": "\"timestamp\""
        },
        {
         "metadata": "{}",
         "name": "AgentID",
         "type": "\"integer\""
        },
        {
         "metadata": "{}",
         "name": "BranchNumber",
         "type": "\"integer\""
        },
        {
         "metadata": "{}",
         "name": "DeleteDate",
         "type": "\"timestamp\""
        },
        {
         "metadata": "{}",
         "name": "DriverIndexNumber",
         "type": "\"integer\""
        },
        {
         "metadata": "{}",
         "name": "EarnedInFullIndicator",
         "type": "\"integer\""
        },
        {
         "metadata": "{}",
         "name": "EarnedPremium",
         "type": "\"decimal(15,4)\""
        },
        {
         "metadata": "{\"__CHAR_VARCHAR_TYPE_STRING\":\"varchar(3)\"}",
         "name": "ExcludeFromCommission",
         "type": "\"string\""
        },
        {
         "metadata": "{}",
         "name": "InforceChange",
         "type": "\"decimal(15,4)\""
        },
        {
         "metadata": "{}",
         "name": "InforceChangeCalculated",
         "type": "\"decimal(15,4)\""
        },
        {
         "metadata": "{}",
         "name": "InforceNew",
         "type": "\"decimal(15,4)\""
        },
        {
         "metadata": "{}",
         "name": "InforceOld",
         "type": "\"decimal(15,4)\""
        },
        {
         "metadata": "{}",
         "name": "InsuredID",
         "type": "\"integer\""
        },
        {
         "metadata": "{\"__CHAR_VARCHAR_TYPE_STRING\":\"varchar(20)\"}",
         "name": "LimitCode",
         "type": "\"string\""
        },
        {
         "metadata": "{\"__CHAR_VARCHAR_TYPE_STRING\":\"varchar(1)\"}",
         "name": "ManualCorrectionFlag",
         "type": "\"string\""
        },
        {
         "metadata": "{}",
         "name": "Master1099ID",
         "type": "\"integer\""
        },
        {
         "metadata": "{}",
         "name": "PolicyDriverID",
         "type": "\"integer\""
        },
        {
         "metadata": "{}",
         "name": "PolicyPrefixID",
         "type": "\"integer\""
        },
        {
         "metadata": "{}",
         "name": "ProtectiveShareAmount",
         "type": "\"decimal(15,4)\""
        },
        {
         "metadata": "{}",
         "name": "RatingPeriodID",
         "type": "\"integer\""
        },
        {
         "metadata": "{}",
         "name": "RedBrickRecordKey",
         "type": "\"integer\""
        },
        {
         "metadata": "{}",
         "name": "ScorecardPointsID",
         "type": "\"integer\""
        },
        {
         "metadata": "{}",
         "name": "SliceNumber",
         "type": "\"integer\""
        },
        {
         "metadata": "{}",
         "name": "SplitNumber",
         "type": "\"integer\""
        },
        {
         "metadata": "{}",
         "name": "StopDate",
         "type": "\"timestamp\""
        },
        {
         "metadata": "{}",
         "name": "TruckingBureauCoveragesID",
         "type": "\"integer\""
        },
        {
         "metadata": "{}",
         "name": "TruckingCoverageID",
         "type": "\"integer\""
        },
        {
         "metadata": "{\"__CHAR_VARCHAR_TYPE_STRING\":\"varchar(25)\"}",
         "name": "VehicleUnitType",
         "type": "\"string\""
        },
        {
         "metadata": "{}",
         "name": "WrittenChangeCalculated",
         "type": "\"decimal(15,4)\""
        },
        {
         "metadata": "{}",
         "name": "WrittenNew",
         "type": "\"decimal(15,4)\""
        },
        {
         "metadata": "{}",
         "name": "WrittenOld",
         "type": "\"decimal(15,4)\""
        },
        {
         "metadata": "{}",
         "name": "WrittenChange",
         "type": "\"decimal(18,4)\""
        },
        {
         "metadata": "{}",
         "name": "Rate",
         "type": "\"decimal(9,6)\""
        },
        {
         "metadata": "{}",
         "name": "DWHCreatedBy",
         "type": "\"string\""
        },
        {
         "metadata": "{}",
         "name": "DWHCreatedDateTime",
         "type": "\"timestamp\""
        },
        {
         "metadata": "{}",
         "name": "DWHUpdatedBy",
         "type": "\"string\""
        },
        {
         "metadata": "{}",
         "name": "DWHUpdatedDateTime",
         "type": "\"timestamp\""
        },
        {
         "metadata": "{}",
         "name": "CompanyID",
         "type": "\"integer\""
        },
        {
         "metadata": "{}",
         "name": "LineOfBusinessID",
         "type": "\"integer\""
        },
        {
         "metadata": "{}",
         "name": "AnnualPremium",
         "type": "\"decimal(19,4)\""
        },
        {
         "metadata": "{}",
         "name": "EvaluatedPremium",
         "type": "\"decimal(19,4)\""
        },
        {
         "metadata": "{}",
         "name": "PolicyTermPremium",
         "type": "\"decimal(19,4)\""
        },
        {
         "metadata": "{}",
         "name": "PriorPremium",
         "type": "\"decimal(19,4)\""
        },
        {
         "metadata": "{}",
         "name": "TotalProRatedChangePremium",
         "type": "\"decimal(19,4)\""
        },
        {
         "metadata": "{}",
         "name": "Premium",
         "type": "\"decimal(19,4)\""
        },
        {
         "metadata": "{}",
         "name": "ChangePremium",
         "type": "\"decimal(19,4)\""
        },
        {
         "metadata": "{}",
         "name": "Commission",
         "type": "\"decimal(19,4)\""
        },
        {
         "metadata": "{}",
         "name": "CoverageTypeCode",
         "type": "\"string\""
        }
       ],
       "type": "table"
      }
     },
     "output_type": "display_data"
    }
   ],
   "source": [
    "%sql\n",
    "select * from mart.policytransactiondetail where Policymasterid = '90020650'"
   ]
  },
  {
   "cell_type": "code",
   "execution_count": 0,
   "metadata": {
    "application/vnd.databricks.v1+cell": {
     "cellMetadata": {},
     "inputWidgets": {},
     "nuid": "201fd21d-1956-4092-bf0f-a5774c2cd219",
     "showTitle": false,
     "title": ""
    }
   },
   "outputs": [],
   "source": [
    "\n",
    "\n",
    "# Qp  -- raw.maj_policy_Wc_QuotePolicy\n",
    "# Insured -- raw.\n",
    "# Producer\n",
    "# Product\n",
    "# comission  -- raw.maj_policy_wc_commissionlist_commission\n",
    "# surcharges\n",
    " \n",
    " \n",
    "# Mart.\n",
    "# PolicyDimension\n",
    "# PolicyTransactionDetail\n",
    "# PolicySurchargeTransacxtionDetail\n",
    "# AccountDimension\n",
    "# InsuredDImesnion"
   ]
  },
  {
   "cell_type": "code",
   "execution_count": 0,
   "metadata": {
    "application/vnd.databricks.v1+cell": {
     "cellMetadata": {
      "byteLimit": 2048000,
      "implicitDf": true,
      "rowLimit": 10000
     },
     "inputWidgets": {},
     "nuid": "b7722527-564b-48c3-b98c-9626d4c867e1",
     "showTitle": false,
     "title": ""
    }
   },
   "outputs": [
    {
     "output_type": "stream",
     "name": "stdout",
     "output_type": "stream",
     "text": [
      "+--------------------+--------------------------------+--------------------------------+------------------------------+------------------------------+--------------------------------+--------------------------------+------------------------------+------------------------------+-------------------------------+-------------------------------+--------------------------------+----------------------+----------------------+-------------------------------------+-------------------------------------+-----------------------------------+-----------------------------------+---------------------------------+---------------------------------+-----------------------------------+-----------------------------------+--------------------------------+--------------------------------+------------------------+------------------------+-------------------------------+-------------------------------+--------------------------------+--------------------------------+--------------------------------+--------------------------------------+--------------------------------------+--------------------------------------+--------------------------------------+--------------------------------+--------------------------------+\n|CList_Comm_AuditFlag|CList_Comm_CommPlanComm_oldValue|CList_Comm_CommPlanComm_newValue|CList_Comm_CommPlanId_oldValue|CList_Comm_CommPlanId_newValue|CList_Comm_CommPlanName_oldValue|CList_Comm_CommPlanName_newValue|CList_Comm_Commission_oldValue|CList_Comm_Commission_newValue|CList_Comm_DateCreated_oldValue|CList_Comm_DateCreated_newValue|CList_Comm_DateModified_newValue|CList_Comm_Id_oldValue|CList_Comm_Id_newValue|CList_Comm_IsCommPlanPercent_oldValue|CList_Comm_IsCommPlanPercent_newValue|CList_Comm_IsCommPlanTired_oldValue|CList_Comm_IsCommPlanTired_newValue|CList_Comm_NetCommission_oldValue|CList_Comm_NetCommission_newValue|CList_Comm_PolicyReference_oldValue|CList_Comm_PolicyReference_newValue|CList_Comm_ProducerCode_oldValue|CList_Comm_ProducerCode_newValue|CList_Comm_Type_oldValue|CList_Comm_Type_newValue|CList_Comm_UserCreated_oldValue|CList_Comm_UserCreated_newValue|CList_Comm_UserModified_newValue|CList_Comm_DateModified_oldValue|CList_Comm_UserModified_oldValue|CList_Comm_AdjustedCommission_oldValue|CList_Comm_AdjustedCommission_newValue|CList_Comm_CommPlanAdjustment_oldValue|CList_Comm_CommPlanAdjustment_newValue|CList_Comm_CommPlanDesc_oldValue|CList_Comm_CommPlanDesc_newValue|\n+--------------------+--------------------------------+--------------------------------+------------------------------+------------------------------+--------------------------------+--------------------------------+------------------------------+------------------------------+-------------------------------+-------------------------------+--------------------------------+----------------------+----------------------+-------------------------------------+-------------------------------------+-----------------------------------+-----------------------------------+---------------------------------+---------------------------------+-----------------------------------+-----------------------------------+--------------------------------+--------------------------------+------------------------+------------------------+-------------------------------+-------------------------------+--------------------------------+--------------------------------+--------------------------------+--------------------------------------+--------------------------------------+--------------------------------------+--------------------------------------+--------------------------------+--------------------------------+\n|                   M|                              10|                              10|                           433|                           433|                            Test|                            Test|                         133.5|                             0|            2024-03-21T06:52:59|            2024-03-22T08:17:19|                            null|                  3824|                  3838|                                    Y|                                    Y|                                  0|                                  0|                            133.5|                                0|                 P01WK0000017860000|                 P01WK0000017860001|                        40901003|                        40901003|              Commission|              Commission|           batchuser@protect...|           batchuser@protect...|                            null|             2024-03-21T06:52:59|            batchuser@protect...|                                  null|                                  null|                                  null|                                  null|                            null|                            null|\n|                   M|                              17|                              17|                           658|                           658|                     Commission1|                     Commission1|                        226.95|                             0|            2024-03-21T06:52:59|            2024-03-22T08:17:19|                            null|                  3823|                  3837|                                    Y|                                    Y|                                  0|                                  0|                           226.95|                                0|                 P01WK0000017860000|                 P01WK0000017860001|                        40901003|                        40901003|              Commission|              Commission|           batchuser@protect...|           batchuser@protect...|                            null|             2024-03-21T06:52:59|            batchuser@protect...|                                  null|                                  null|                                  null|                                  null|            Protective comm plan|            Protective comm plan|\n+--------------------+--------------------------------+--------------------------------+------------------------------+------------------------------+--------------------------------+--------------------------------+------------------------------+------------------------------+-------------------------------+-------------------------------+--------------------------------+----------------------+----------------------+-------------------------------------+-------------------------------------+-----------------------------------+-----------------------------------+---------------------------------+---------------------------------+-----------------------------------+-----------------------------------+--------------------------------+--------------------------------+------------------------+------------------------+-------------------------------+-------------------------------+--------------------------------+--------------------------------+--------------------------------+--------------------------------------+--------------------------------------+--------------------------------------+--------------------------------------+--------------------------------+--------------------------------+\n\n"
     ]
    }
   ],
   "source": [
    "# spark.sql(\"SELECT * FROM raw.maj_policy_Wc_QuotePolicy WHERE QPList_QP_EntityReference = 'P01WK0000017900001'\").show()\n",
    "\n",
    "spark.sql(\"SELECT DISTINCT * FROM raw.maj_policy_wc_commissionlist_commission WHERE CList_Comm_PolicyReference_newValue = 'P01WK0000017860001'\").show()\n"
   ]
  },
  {
   "cell_type": "code",
   "execution_count": 0,
   "metadata": {
    "application/vnd.databricks.v1+cell": {
     "cellMetadata": {
      "byteLimit": 2048000,
      "implicitDf": true,
      "rowLimit": 10000
     },
     "inputWidgets": {},
     "nuid": "8135ee6e-7100-4065-87cf-ffb8504179fd",
     "showTitle": false,
     "title": ""
    }
   },
   "outputs": [
    {
     "output_type": "display_data",
     "data": {
      "text/html": [
       "<style scoped>\n",
       "  .table-result-container {\n",
       "    max-height: 300px;\n",
       "    overflow: auto;\n",
       "  }\n",
       "  table, th, td {\n",
       "    border: 1px solid black;\n",
       "    border-collapse: collapse;\n",
       "  }\n",
       "  th, td {\n",
       "    padding: 5px;\n",
       "  }\n",
       "  th {\n",
       "    text-align: left;\n",
       "  }\n",
       "</style><div class='table-result-container'><table class='table-result'><thead style='background-color: white'><tr><th>CList_Comm_AuditFlag</th><th>CList_Comm_CommPlanComm_oldValue</th><th>CList_Comm_CommPlanComm_newValue</th><th>CList_Comm_CommPlanId_oldValue</th><th>CList_Comm_CommPlanId_newValue</th><th>CList_Comm_CommPlanName_oldValue</th><th>CList_Comm_CommPlanName_newValue</th><th>CList_Comm_Commission_oldValue</th><th>CList_Comm_Commission_newValue</th><th>CList_Comm_DateCreated_oldValue</th><th>CList_Comm_DateCreated_newValue</th><th>CList_Comm_DateModified_newValue</th><th>CList_Comm_Id_oldValue</th><th>CList_Comm_Id_newValue</th><th>CList_Comm_IsCommPlanPercent_oldValue</th><th>CList_Comm_IsCommPlanPercent_newValue</th><th>CList_Comm_IsCommPlanTired_oldValue</th><th>CList_Comm_IsCommPlanTired_newValue</th><th>CList_Comm_NetCommission_oldValue</th><th>CList_Comm_NetCommission_newValue</th><th>CList_Comm_PolicyReference_oldValue</th><th>CList_Comm_PolicyReference_newValue</th><th>CList_Comm_ProducerCode_oldValue</th><th>CList_Comm_ProducerCode_newValue</th><th>CList_Comm_Type_oldValue</th><th>CList_Comm_Type_newValue</th><th>CList_Comm_UserCreated_oldValue</th><th>CList_Comm_UserCreated_newValue</th><th>CList_Comm_UserModified_newValue</th><th>CList_Comm_DateModified_oldValue</th><th>CList_Comm_UserModified_oldValue</th><th>CList_Comm_AdjustedCommission_oldValue</th><th>CList_Comm_AdjustedCommission_newValue</th><th>CList_Comm_CommPlanAdjustment_oldValue</th><th>CList_Comm_CommPlanAdjustment_newValue</th><th>CList_Comm_CommPlanDesc_oldValue</th><th>CList_Comm_CommPlanDesc_newValue</th></tr></thead><tbody><tr><td>M</td><td>10</td><td>10</td><td>433</td><td>433</td><td>Test</td><td>Test</td><td>133.5</td><td>0</td><td>2024-03-21T06:52:59</td><td>2024-03-22T08:17:19</td><td>null</td><td>3824</td><td>3838</td><td>Y</td><td>Y</td><td>0</td><td>0</td><td>133.5</td><td>0</td><td>P01WK0000017860000</td><td>P01WK0000017860001</td><td>40901003</td><td>40901003</td><td>Commission</td><td>Commission</td><td>batchuser@protective.com</td><td>batchuser@protective.com</td><td>null</td><td>2024-03-21T06:52:59</td><td>batchuser@protective.com</td><td>null</td><td>null</td><td>null</td><td>null</td><td>null</td><td>null</td></tr><tr><td>M</td><td>17</td><td>17</td><td>658</td><td>658</td><td>Commission1</td><td>Commission1</td><td>226.95</td><td>0</td><td>2024-03-21T06:52:59</td><td>2024-03-22T08:17:19</td><td>null</td><td>3823</td><td>3837</td><td>Y</td><td>Y</td><td>0</td><td>0</td><td>226.95</td><td>0</td><td>P01WK0000017860000</td><td>P01WK0000017860001</td><td>40901003</td><td>40901003</td><td>Commission</td><td>Commission</td><td>batchuser@protective.com</td><td>batchuser@protective.com</td><td>null</td><td>2024-03-21T06:52:59</td><td>batchuser@protective.com</td><td>null</td><td>null</td><td>null</td><td>null</td><td>Protective comm plan</td><td>Protective comm plan</td></tr></tbody></table></div>"
      ]
     },
     "metadata": {
      "application/vnd.databricks.v1+output": {
       "addedWidgets": {},
       "aggData": [],
       "aggError": "",
       "aggOverflow": false,
       "aggSchema": [],
       "aggSeriesLimitReached": false,
       "aggType": "",
       "arguments": {},
       "columnCustomDisplayInfos": {},
       "data": [
        [
         "M",
         "10",
         "10",
         "433",
         "433",
         "Test",
         "Test",
         "133.5",
         "0",
         "2024-03-21T06:52:59",
         "2024-03-22T08:17:19",
         null,
         "3824",
         "3838",
         "Y",
         "Y",
         "0",
         "0",
         "133.5",
         "0",
         "P01WK0000017860000",
         "P01WK0000017860001",
         "40901003",
         "40901003",
         "Commission",
         "Commission",
         "batchuser@protective.com",
         "batchuser@protective.com",
         null,
         "2024-03-21T06:52:59",
         "batchuser@protective.com",
         null,
         null,
         null,
         null,
         null,
         null
        ],
        [
         "M",
         "17",
         "17",
         "658",
         "658",
         "Commission1",
         "Commission1",
         "226.95",
         "0",
         "2024-03-21T06:52:59",
         "2024-03-22T08:17:19",
         null,
         "3823",
         "3837",
         "Y",
         "Y",
         "0",
         "0",
         "226.95",
         "0",
         "P01WK0000017860000",
         "P01WK0000017860001",
         "40901003",
         "40901003",
         "Commission",
         "Commission",
         "batchuser@protective.com",
         "batchuser@protective.com",
         null,
         "2024-03-21T06:52:59",
         "batchuser@protective.com",
         null,
         null,
         null,
         null,
         "Protective comm plan",
         "Protective comm plan"
        ]
       ],
       "datasetInfos": [],
       "dbfsResultPath": null,
       "isJsonSchema": true,
       "metadata": {},
       "overflow": false,
       "plotOptions": {
        "customPlotOptions": {},
        "displayType": "table",
        "pivotAggregation": null,
        "pivotColumns": null,
        "xColumns": null,
        "yColumns": null
       },
       "removedWidgets": [],
       "schema": [
        {
         "metadata": "{}",
         "name": "CList_Comm_AuditFlag",
         "type": "\"string\""
        },
        {
         "metadata": "{}",
         "name": "CList_Comm_CommPlanComm_oldValue",
         "type": "\"string\""
        },
        {
         "metadata": "{}",
         "name": "CList_Comm_CommPlanComm_newValue",
         "type": "\"string\""
        },
        {
         "metadata": "{}",
         "name": "CList_Comm_CommPlanId_oldValue",
         "type": "\"string\""
        },
        {
         "metadata": "{}",
         "name": "CList_Comm_CommPlanId_newValue",
         "type": "\"string\""
        },
        {
         "metadata": "{}",
         "name": "CList_Comm_CommPlanName_oldValue",
         "type": "\"string\""
        },
        {
         "metadata": "{}",
         "name": "CList_Comm_CommPlanName_newValue",
         "type": "\"string\""
        },
        {
         "metadata": "{}",
         "name": "CList_Comm_Commission_oldValue",
         "type": "\"string\""
        },
        {
         "metadata": "{}",
         "name": "CList_Comm_Commission_newValue",
         "type": "\"string\""
        },
        {
         "metadata": "{}",
         "name": "CList_Comm_DateCreated_oldValue",
         "type": "\"string\""
        },
        {
         "metadata": "{}",
         "name": "CList_Comm_DateCreated_newValue",
         "type": "\"string\""
        },
        {
         "metadata": "{}",
         "name": "CList_Comm_DateModified_newValue",
         "type": "\"string\""
        },
        {
         "metadata": "{}",
         "name": "CList_Comm_Id_oldValue",
         "type": "\"string\""
        },
        {
         "metadata": "{}",
         "name": "CList_Comm_Id_newValue",
         "type": "\"string\""
        },
        {
         "metadata": "{}",
         "name": "CList_Comm_IsCommPlanPercent_oldValue",
         "type": "\"string\""
        },
        {
         "metadata": "{}",
         "name": "CList_Comm_IsCommPlanPercent_newValue",
         "type": "\"string\""
        },
        {
         "metadata": "{}",
         "name": "CList_Comm_IsCommPlanTired_oldValue",
         "type": "\"string\""
        },
        {
         "metadata": "{}",
         "name": "CList_Comm_IsCommPlanTired_newValue",
         "type": "\"string\""
        },
        {
         "metadata": "{}",
         "name": "CList_Comm_NetCommission_oldValue",
         "type": "\"string\""
        },
        {
         "metadata": "{}",
         "name": "CList_Comm_NetCommission_newValue",
         "type": "\"string\""
        },
        {
         "metadata": "{}",
         "name": "CList_Comm_PolicyReference_oldValue",
         "type": "\"string\""
        },
        {
         "metadata": "{}",
         "name": "CList_Comm_PolicyReference_newValue",
         "type": "\"string\""
        },
        {
         "metadata": "{}",
         "name": "CList_Comm_ProducerCode_oldValue",
         "type": "\"string\""
        },
        {
         "metadata": "{}",
         "name": "CList_Comm_ProducerCode_newValue",
         "type": "\"string\""
        },
        {
         "metadata": "{}",
         "name": "CList_Comm_Type_oldValue",
         "type": "\"string\""
        },
        {
         "metadata": "{}",
         "name": "CList_Comm_Type_newValue",
         "type": "\"string\""
        },
        {
         "metadata": "{}",
         "name": "CList_Comm_UserCreated_oldValue",
         "type": "\"string\""
        },
        {
         "metadata": "{}",
         "name": "CList_Comm_UserCreated_newValue",
         "type": "\"string\""
        },
        {
         "metadata": "{}",
         "name": "CList_Comm_UserModified_newValue",
         "type": "\"string\""
        },
        {
         "metadata": "{}",
         "name": "CList_Comm_DateModified_oldValue",
         "type": "\"string\""
        },
        {
         "metadata": "{}",
         "name": "CList_Comm_UserModified_oldValue",
         "type": "\"string\""
        },
        {
         "metadata": "{}",
         "name": "CList_Comm_AdjustedCommission_oldValue",
         "type": "\"string\""
        },
        {
         "metadata": "{}",
         "name": "CList_Comm_AdjustedCommission_newValue",
         "type": "\"string\""
        },
        {
         "metadata": "{}",
         "name": "CList_Comm_CommPlanAdjustment_oldValue",
         "type": "\"string\""
        },
        {
         "metadata": "{}",
         "name": "CList_Comm_CommPlanAdjustment_newValue",
         "type": "\"string\""
        },
        {
         "metadata": "{}",
         "name": "CList_Comm_CommPlanDesc_oldValue",
         "type": "\"string\""
        },
        {
         "metadata": "{}",
         "name": "CList_Comm_CommPlanDesc_newValue",
         "type": "\"string\""
        }
       ],
       "type": "table"
      }
     },
     "output_type": "display_data"
    }
   ],
   "source": [
    "%sql \n",
    "\n",
    "SELECT DISTINCT * FROM raw.maj_policy_wc_commissionlist_commission WHERE CList_Comm_PolicyReference_newValue = 'P01WK0000017860001'"
   ]
  },
  {
   "cell_type": "code",
   "execution_count": 0,
   "metadata": {
    "application/vnd.databricks.v1+cell": {
     "cellMetadata": {},
     "inputWidgets": {},
     "nuid": "d3b09475-314a-4088-995a-42eeb2dfc789",
     "showTitle": false,
     "title": ""
    }
   },
   "outputs": [],
   "source": []
  },
  {
   "cell_type": "code",
   "execution_count": 0,
   "metadata": {
    "application/vnd.databricks.v1+cell": {
     "cellMetadata": {},
     "inputWidgets": {},
     "nuid": "d2e73ff7-fc50-4252-a709-5725559137a7",
     "showTitle": false,
     "title": ""
    }
   },
   "outputs": [],
   "source": []
  }
 ],
 "metadata": {
  "application/vnd.databricks.v1+notebook": {
   "dashboards": [],
   "language": "python",
   "notebookMetadata": {
    "mostRecentlyExecutedCommandWithImplicitDF": {
     "commandId": -1,
     "dataframes": [
      "_sqldf"
     ]
    },
    "pythonIndentUnit": 4
   },
   "notebookName": "Daily_Validation",
   "widgets": {
    "BaseFolderPath": {
     "currentValue": "/mnt/raw/API_DATA/MAJESCO_PAS/POLICY/XML/",
     "nuid": "9bc20516-636c-4f44-901c-0ec8c10a0166",
     "widgetInfo": {
      "widgetType": "text",
      "defaultValue": "/mnt/raw/API_DATA/MAJESCO_PAS/POLICY/XML/",
      "label": null,
      "name": "BaseFolderPath",
      "options": {
       "widgetType": "text",
       "autoCreated": null,
       "validationRegex": null
      }
     }
    },
    "Date": {
     "currentValue": "2024-03-22",
     "nuid": "a535c500-8de7-4732-83f4-5a8f40783bde",
     "widgetInfo": {
      "widgetType": "text",
      "defaultValue": "2024-03-22",
      "label": null,
      "name": "Date",
      "options": {
       "widgetType": "text",
       "autoCreated": null,
       "validationRegex": null
      }
     }
    },
    "Load_Folder": {
     "currentValue": "no",
     "nuid": "6793e8b0-a19e-4a97-8993-2b9252b0d0a9",
     "widgetInfo": {
      "widgetType": "text",
      "defaultValue": "No",
      "label": null,
      "name": "Load_Folder",
      "options": {
       "widgetType": "text",
       "autoCreated": null,
       "validationRegex": null
      }
     }
    },
    "Nodes": {
     "currentValue": "QuotePolicy,CommissionList",
     "nuid": "b7d2a101-e3fb-48f4-bc7a-59484e5d7c2e",
     "widgetInfo": {
      "widgetType": "text",
      "defaultValue": "QuotePolicy",
      "label": null,
      "name": "Nodes",
      "options": {
       "widgetType": "text",
       "autoCreated": null,
       "validationRegex": null
      }
     }
    }
   }
  }
 },
 "nbformat": 4,
 "nbformat_minor": 0
}
